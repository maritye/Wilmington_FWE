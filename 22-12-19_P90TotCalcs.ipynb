{
 "cells": [
  {
   "cell_type": "markdown",
   "id": "a4edbf36-cafe-4a4b-8a78-50075ee40dc1",
   "metadata": {},
   "source": [
    "Do a quick check on the proportion of 90% events both annually and seasonally"
   ]
  },
  {
   "cell_type": "code",
   "execution_count": 1,
   "id": "01e3ccb1-eab3-4102-8184-5bb9177f1462",
   "metadata": {},
   "outputs": [],
   "source": [
    "# Import packages\n",
    "import numpy as np\n",
    "import pandas as pd\n",
    "import xarray as xr\n",
    "import datetime\n"
   ]
  },
  {
   "cell_type": "code",
   "execution_count": 2,
   "id": "b0576415-35b7-4c81-b423-1a69e26c9f9e",
   "metadata": {
    "tags": []
   },
   "outputs": [],
   "source": [
    "#directories\n",
    "iDir = \"~/PROGS/Belmont FWE/LOCA-data/loca5/\"\n",
    "oDir = \"~/PROGS/Belmont FWE/Indices/\""
   ]
  },
  {
   "cell_type": "markdown",
   "id": "769f8093-fe6a-4486-8d59-f08de68591fa",
   "metadata": {},
   "source": [
    "Define the precipitation functions"
   ]
  },
  {
   "cell_type": "code",
   "execution_count": 3,
   "id": "44c810f5-32cc-41e0-b98e-53b70cad1c6f",
   "metadata": {
    "tags": []
   },
   "outputs": [],
   "source": [
    "\n",
    "def r_quant(ds, threshold=0.95, time0='2015-01-01', time1='2034-12-31', varname='PRECT'):\n",
    "    \"\"\"\n",
    "    Compute quantiles in rainfall data. Calculates for days with >=1mm.\n",
    "    Args:\n",
    "        ds: Dataset.\n",
    "        varname: PRECT (assumes CESM output)\n",
    "        threshold (float): Lower quantile percent (as decimal). Defaults to 0.95\n",
    "        time0 (str): First time for slice. Defaults to 2015-01-01.\n",
    "        time1 (str): Second time for slice. Defaults to 2034-12-31.\n",
    "    \"\"\"\n",
    "    dp = ds.sel(time=slice(time0,time1)).where(ds[varname] > 1).quantile(q=[threshold],dim=['time']).squeeze().drop('quantile')\n",
    "    dp = dp.to_array(name=(f\"Q{str(int(float(threshold)*100))}\"))\n",
    "    return dp\n",
    "\n",
    "def annualtot_above_q(ds, thresh_data, threshold=0.95, varname='PRECT'):\n",
    "    \"\"\"\n",
    "    Compute total precipitation from days exceeding threshold\n",
    "    Args:\n",
    "        ds: Dataset.\n",
    "        thresh_data: Threshold dataset (computed using r_quant over all projs).\n",
    "        threshold (float): Upper quantile percent (as decimal) defaults to 0.95\n",
    "        varname: PRECT. assumes CESM output\n",
    "    \"\"\"\n",
    "    ds = xr.where(ds[varname] > thresh_data,ds[varname],0).groupby('time.year').sum('time')\n",
    "    ds = ds.to_array(name = (f\"PR{str(int(float(threshold)*100))}Tot\")).squeeze().drop('variable')\n",
    "    return ds\n",
    "\n",
    "def annualnum_above_q(ds, thresh_data, threshold=0.95, varname='PRECT'):\n",
    "    \"\"\"\n",
    "    Compute number of days exceeding threshold per year\n",
    "    Args:\n",
    "        ds: Dataset\n",
    "        thresh_data: Threshold dataset (computed using r_quant over all ensemble projs)\n",
    "        threshold: upper quantile percent as decimal, defaults to 0.95\n",
    "        varname: PRECT assumes CESM output\n",
    "    \"\"\"\n",
    "    ds = xr.where(ds[varname] > thresh_data,1,0).groupby('time.year').sum('time')\n",
    "    ds = ds.to_array(name = (f\"N{str(int(float(threshold)*100))}\")).squeeze().drop('variable')\n",
    "    return ds\n"
   ]
  },
  {
   "cell_type": "code",
   "execution_count": 4,
   "id": "c40704fb-9f62-45c1-abdc-e93d7047bc88",
   "metadata": {},
   "outputs": [],
   "source": [
    "with xr.open_dataset(iDir + 'Extraction_pr.nc') as dp:\n",
    "    dp\n",
    "    \n",
    "dp_win = dp.isel(time=(dp.time.dt.season=='DJF'))\n",
    "dp_win['win_year'] = (dp_win.time.dt.month >= 12) + dp_win.time.dt.year\n",
    "dp_win.coords['win_year'] = dp_win['win_year']\n",
    "dp_spr = dp.isel(time=(dp.time.dt.season=='MAM'))\n",
    "dp_sum = dp.isel(time=(dp.time.dt.season=='JJA'))\n",
    "dp_aut = dp.isel(time=(dp.time.dt.season=='SON'))"
   ]
  },
  {
   "cell_type": "code",
   "execution_count": 43,
   "id": "bd0aa995-c2eb-4ba2-9914-54842b4e4601",
   "metadata": {},
   "outputs": [],
   "source": [
    "dclim = dp.sel(time=slice('1981','2010'))\n",
    "years = np.arange(1981,2011)\n",
    "\n",
    "lat = np.linspace(39.53125,42.34375,num=46)\n",
    "lon = np.linspace(283.78125,285.59375, num=30)\n",
    "dims = ('year', 'lat', 'lon')"
   ]
  },
  {
   "cell_type": "code",
   "execution_count": 65,
   "id": "8c88aa7f-74e0-450c-82dc-b526395c22a5",
   "metadata": {},
   "outputs": [
    {
     "name": "stderr",
     "output_type": "stream",
     "text": [
      "/glade/u/home/maritye/.local/lib/python3.7/site-packages/numpy/lib/nanfunctions.py:1390: RuntimeWarning: All-NaN slice encountered\n",
      "  overwrite_input, interpolation)\n",
      "/glade/u/home/maritye/.local/lib/python3.7/site-packages/numpy/lib/nanfunctions.py:1390: RuntimeWarning: All-NaN slice encountered\n",
      "  overwrite_input, interpolation)\n",
      "/glade/u/home/maritye/.local/lib/python3.7/site-packages/numpy/lib/nanfunctions.py:1390: RuntimeWarning: All-NaN slice encountered\n",
      "  overwrite_input, interpolation)\n",
      "/glade/u/home/maritye/.local/lib/python3.7/site-packages/numpy/lib/nanfunctions.py:1390: RuntimeWarning: All-NaN slice encountered\n",
      "  overwrite_input, interpolation)\n",
      "/glade/u/home/maritye/.local/lib/python3.7/site-packages/numpy/lib/nanfunctions.py:1390: RuntimeWarning: All-NaN slice encountered\n",
      "  overwrite_input, interpolation)\n",
      "/glade/u/home/maritye/.local/lib/python3.7/site-packages/numpy/lib/nanfunctions.py:1390: RuntimeWarning: All-NaN slice encountered\n",
      "  overwrite_input, interpolation)\n",
      "/glade/u/home/maritye/.local/lib/python3.7/site-packages/numpy/lib/nanfunctions.py:1390: RuntimeWarning: All-NaN slice encountered\n",
      "  overwrite_input, interpolation)\n",
      "/glade/u/home/maritye/.local/lib/python3.7/site-packages/numpy/lib/nanfunctions.py:1390: RuntimeWarning: All-NaN slice encountered\n",
      "  overwrite_input, interpolation)\n",
      "/glade/u/home/maritye/.local/lib/python3.7/site-packages/numpy/lib/nanfunctions.py:1390: RuntimeWarning: All-NaN slice encountered\n",
      "  overwrite_input, interpolation)\n",
      "/glade/u/home/maritye/.local/lib/python3.7/site-packages/numpy/lib/nanfunctions.py:1390: RuntimeWarning: All-NaN slice encountered\n",
      "  overwrite_input, interpolation)\n",
      "/glade/u/home/maritye/.local/lib/python3.7/site-packages/numpy/lib/nanfunctions.py:1390: RuntimeWarning: All-NaN slice encountered\n",
      "  overwrite_input, interpolation)\n",
      "/glade/u/home/maritye/.local/lib/python3.7/site-packages/numpy/lib/nanfunctions.py:1390: RuntimeWarning: All-NaN slice encountered\n",
      "  overwrite_input, interpolation)\n",
      "/glade/u/home/maritye/.local/lib/python3.7/site-packages/numpy/lib/nanfunctions.py:1390: RuntimeWarning: All-NaN slice encountered\n",
      "  overwrite_input, interpolation)\n",
      "/glade/u/home/maritye/.local/lib/python3.7/site-packages/numpy/lib/nanfunctions.py:1390: RuntimeWarning: All-NaN slice encountered\n",
      "  overwrite_input, interpolation)\n",
      "/glade/u/home/maritye/.local/lib/python3.7/site-packages/numpy/lib/nanfunctions.py:1390: RuntimeWarning: All-NaN slice encountered\n",
      "  overwrite_input, interpolation)\n",
      "/glade/u/home/maritye/.local/lib/python3.7/site-packages/numpy/lib/nanfunctions.py:1390: RuntimeWarning: All-NaN slice encountered\n",
      "  overwrite_input, interpolation)\n",
      "/glade/u/home/maritye/.local/lib/python3.7/site-packages/numpy/lib/nanfunctions.py:1390: RuntimeWarning: All-NaN slice encountered\n",
      "  overwrite_input, interpolation)\n",
      "/glade/u/home/maritye/.local/lib/python3.7/site-packages/numpy/lib/nanfunctions.py:1390: RuntimeWarning: All-NaN slice encountered\n",
      "  overwrite_input, interpolation)\n",
      "/glade/u/home/maritye/.local/lib/python3.7/site-packages/numpy/lib/nanfunctions.py:1390: RuntimeWarning: All-NaN slice encountered\n",
      "  overwrite_input, interpolation)\n",
      "/glade/u/home/maritye/.local/lib/python3.7/site-packages/numpy/lib/nanfunctions.py:1390: RuntimeWarning: All-NaN slice encountered\n",
      "  overwrite_input, interpolation)\n",
      "/glade/u/home/maritye/.local/lib/python3.7/site-packages/numpy/lib/nanfunctions.py:1390: RuntimeWarning: All-NaN slice encountered\n",
      "  overwrite_input, interpolation)\n",
      "/glade/u/home/maritye/.local/lib/python3.7/site-packages/numpy/lib/nanfunctions.py:1390: RuntimeWarning: All-NaN slice encountered\n",
      "  overwrite_input, interpolation)\n",
      "/glade/u/home/maritye/.local/lib/python3.7/site-packages/numpy/lib/nanfunctions.py:1390: RuntimeWarning: All-NaN slice encountered\n",
      "  overwrite_input, interpolation)\n",
      "/glade/u/home/maritye/.local/lib/python3.7/site-packages/numpy/lib/nanfunctions.py:1390: RuntimeWarning: All-NaN slice encountered\n",
      "  overwrite_input, interpolation)\n",
      "/glade/u/home/maritye/.local/lib/python3.7/site-packages/numpy/lib/nanfunctions.py:1390: RuntimeWarning: All-NaN slice encountered\n",
      "  overwrite_input, interpolation)\n",
      "/glade/u/home/maritye/.local/lib/python3.7/site-packages/numpy/lib/nanfunctions.py:1390: RuntimeWarning: All-NaN slice encountered\n",
      "  overwrite_input, interpolation)\n",
      "/glade/u/home/maritye/.local/lib/python3.7/site-packages/numpy/lib/nanfunctions.py:1390: RuntimeWarning: All-NaN slice encountered\n",
      "  overwrite_input, interpolation)\n",
      "/glade/u/home/maritye/.local/lib/python3.7/site-packages/numpy/lib/nanfunctions.py:1390: RuntimeWarning: All-NaN slice encountered\n",
      "  overwrite_input, interpolation)\n",
      "/glade/u/home/maritye/.local/lib/python3.7/site-packages/numpy/lib/nanfunctions.py:1390: RuntimeWarning: All-NaN slice encountered\n",
      "  overwrite_input, interpolation)\n",
      "/glade/u/home/maritye/.local/lib/python3.7/site-packages/numpy/lib/nanfunctions.py:1390: RuntimeWarning: All-NaN slice encountered\n",
      "  overwrite_input, interpolation)\n"
     ]
    }
   ],
   "source": [
    "# Keeps warning about the blank grid cells.\n",
    "# Calculates quantile over climatology using leave-one-out bootstrap\n",
    "quans = xr.DataArray(None, coords=dict(year=years, lat = lat, lon = lon), dims=dims)\n",
    "for year in years:\n",
    "    tdrop = dclim.where(dclim['time.year']!=year)\n",
    "#    print(year)\n",
    "    quans[:,:,:]=tdrop.where(tdrop['pr']>1).quantile(q=0.95, dim=('time','projection'), skipna=True).squeeze().to_array()"
   ]
  },
  {
   "cell_type": "code",
   "execution_count": 66,
   "id": "a1303d6b-a263-4bb3-9f73-bfa578b5559a",
   "metadata": {},
   "outputs": [
    {
     "name": "stderr",
     "output_type": "stream",
     "text": [
      "/glade/u/home/maritye/.local/lib/python3.7/site-packages/xarray/core/nanops.py:133: RuntimeWarning: invalid value encountered in true_divide\n",
      "  data = data / (valid_count - ddof)\n"
     ]
    }
   ],
   "source": [
    "dq = quans.mean(dim='year').squeeze()"
   ]
  },
  {
   "cell_type": "markdown",
   "id": "177af367-41a4-4d9e-9d34-c2068bb6e26c",
   "metadata": {},
   "source": [
    "Now calculate the total from these events and number of days in each year for annual total and then seasonal values."
   ]
  },
  {
   "cell_type": "code",
   "execution_count": 76,
   "id": "38b0847a-49db-4141-ad31-d07112691c48",
   "metadata": {
    "tags": []
   },
   "outputs": [],
   "source": [
    "### Create some standard information to include in each of the datasets for ease of writing\n",
    "years = np.arange(1980,2100)\n",
    "winyears = np.arange(1981,2099)\n",
    "seasons = ('DJF', 'MAM', 'JJA', 'SON')\n",
    "proj= ['cesm1-cam5.1.rcp45', 'cesm1-cam5.1.rcp85']\n",
    "lat = np.linspace(39.53125,42.34375,num=46)\n",
    "#lon = np.linspace(-76.21875,-74.40625, num=30)\n",
    "lon = np.linspace(283.78125,285.59375, num=30) # calculate with original longs and then convert later\n",
    "dims = (\"proj\", 'year', 'lat', 'lon')\n",
    "attribs = dict(description='High Threshold Precipitation Indices for LOCA data over Delaware River Basin. Using CESM1/RCP4.5 and RCP8.5.', \n",
    "                history='Created by Mari Tye December 2022.' )"
   ]
  },
  {
   "cell_type": "code",
   "execution_count": 113,
   "id": "b5c28e36-04a2-4e15-b37e-2a5465db8dcc",
   "metadata": {},
   "outputs": [
    {
     "name": "stdout",
     "output_type": "stream",
     "text": [
      "cesm1-cam5.1.rcp45\n",
      "cesm1-cam5.1.rcp85\n"
     ]
    }
   ],
   "source": [
    "P95T = xr.DataArray(None, coords=dict(proj=proj, year=years, lat = lat, lon = lon), dims=dims, attrs=attribs, name='P95T')\n",
    "PTOT = xr.DataArray(None, coords=dict(proj=proj, year=years, lat = lat, lon = lon), dims=dims, attrs=attribs, name='PRCPTOT')\n",
    "N95 = xr.DataArray(None, coords=dict(proj=proj, year=years, lat = lat, lon = lon), dims=dims, attrs=attribs, name='N95')\n",
    "\n",
    "for r in range(2):\n",
    "    print(proj[r])\n",
    "    \n",
    "    PTOT[r,:,:,:] = xr.DataArray(dp['pr'].isel(projection=r).groupby('time.year').sum('time'))\n",
    "    dum = dp.where(dp['pr']>dq).isel(projection=r).groupby('time.year').sum()\n",
    "    P95T[r,:,:,:] = dum['pr']\n",
    "    N95[r,:,:,:] = xr.where(dp['pr']>dq,1,0).isel(projection=r).groupby('time.year').sum()"
   ]
  },
  {
   "cell_type": "code",
   "execution_count": 119,
   "id": "e84d0d10-9ae3-408a-b6da-fb2f01e689a2",
   "metadata": {},
   "outputs": [],
   "source": [
    "ptotnm = oDir + 'LOCA_CESM1.PRCPTOT.1981-2099.nc'\n",
    "p95nm = oDir + 'LOCA_CESM1.P95T.1981-2099.nc'\n",
    "n95nm = oDir + 'LOCA_CESM1.N95.1981-2099.nc'\n",
    "   \n",
    "        # and write out to netcdf\n",
    "P95T.to_netcdf(p95nm)\n",
    "N95.to_netcdf(n95nm)\n",
    "PTOT.to_netcdf(ptotnm)\n"
   ]
  },
  {
   "cell_type": "code",
   "execution_count": 124,
   "id": "2b868e48-6384-447e-82d0-f0484da25f19",
   "metadata": {},
   "outputs": [
    {
     "name": "stdout",
     "output_type": "stream",
     "text": [
      "cesm1-cam5.1.rcp45\n",
      "cesm1-cam5.1.rcp85\n"
     ]
    }
   ],
   "source": [
    "P95TW = xr.DataArray(None, coords=dict(proj=proj, year=years, lat = lat, lon = lon), dims=dims, attrs=attribs, name='P95T')\n",
    "N95W = xr.DataArray(None, coords=dict(proj=proj, year=years, lat = lat, lon = lon), dims=dims, attrs=attribs, name='N95')\n",
    "\n",
    "for r in range(2):\n",
    "    print(proj[r])\n",
    "    \n",
    "    dum = dp_win.where(dp_win['pr']>dq).isel(projection=r).groupby('win_year').sum()\n",
    "    P95TW[r,:,:,:] = dum['pr'][:120,:,:]\n",
    "    N95W[r,:,:,:] = xr.where(dp_win['pr']>dq,1,0).isel(projection=r).groupby('win_year').sum()[:120,:,:]"
   ]
  },
  {
   "cell_type": "code",
   "execution_count": 125,
   "id": "9e2f7fd7-00af-4e3b-99d7-80d94e85dc79",
   "metadata": {},
   "outputs": [
    {
     "name": "stdout",
     "output_type": "stream",
     "text": [
      "cesm1-cam5.1.rcp45\n",
      "cesm1-cam5.1.rcp85\n"
     ]
    }
   ],
   "source": [
    "P95TS = xr.DataArray(None, coords=dict(proj=proj, year=years, lat = lat, lon = lon), dims=dims, attrs=attribs, name='P95T')\n",
    "N95S = xr.DataArray(None, coords=dict(proj=proj, year=years, lat = lat, lon = lon), dims=dims, attrs=attribs, name='N95')\n",
    "\n",
    "for r in range(2):\n",
    "    print(proj[r])\n",
    "    \n",
    "    dum = dp_sum.where(dp_sum['pr']>dq).isel(projection=r).groupby('time.year').sum()\n",
    "    P95TS[r,:,:,:] = dum['pr']\n",
    "    N95S[r,:,:,:] = xr.where(dp_sum['pr']>dq,1,0).isel(projection=r).groupby('time.year').sum()"
   ]
  },
  {
   "cell_type": "code",
   "execution_count": 127,
   "id": "4501a3a7-ffc1-4ea3-a90c-121d2aa98988",
   "metadata": {},
   "outputs": [
    {
     "name": "stdout",
     "output_type": "stream",
     "text": [
      "cesm1-cam5.1.rcp45\n",
      "cesm1-cam5.1.rcp85\n"
     ]
    }
   ],
   "source": [
    "P95TG = xr.DataArray(None, coords=dict(proj=proj, year=years, lat = lat, lon = lon), dims=dims, attrs=attribs, name='P95T')\n",
    "N95G = xr.DataArray(None, coords=dict(proj=proj, year=years, lat = lat, lon = lon), dims=dims, attrs=attribs, name='N95')\n",
    "\n",
    "for r in range(2):\n",
    "    print(proj[r])\n",
    "    \n",
    "    dum = dp_spr.where(dp_spr['pr']>dq).isel(projection=r).groupby('time.year').sum()\n",
    "    P95TG[r,:,:,:] = dum['pr']\n",
    "    N95G[r,:,:,:] = xr.where(dp_spr['pr']>dq,1,0).isel(projection=r).groupby('time.year').sum()"
   ]
  },
  {
   "cell_type": "code",
   "execution_count": 128,
   "id": "15300e63-74dd-4f5b-9dbe-6009cd99227e",
   "metadata": {},
   "outputs": [
    {
     "name": "stdout",
     "output_type": "stream",
     "text": [
      "cesm1-cam5.1.rcp45\n",
      "cesm1-cam5.1.rcp85\n"
     ]
    }
   ],
   "source": [
    "P95TA = xr.DataArray(None, coords=dict(proj=proj, year=years, lat = lat, lon = lon), dims=dims, attrs=attribs, name='P95T')\n",
    "N95A = xr.DataArray(None, coords=dict(proj=proj, year=years, lat = lat, lon = lon), dims=dims, attrs=attribs, name='N95')\n",
    "\n",
    "for r in range(2):\n",
    "    print(proj[r])\n",
    "    \n",
    "    dum = dp_aut.where(dp_aut['pr']>dq).isel(projection=r).groupby('time.year').sum()\n",
    "    P95TA[r,:,:,:] = dum['pr']\n",
    "    N95A[r,:,:,:] = xr.where(dp_aut['pr']>dq,1,0).isel(projection=r).groupby('time.year').sum()"
   ]
  },
  {
   "cell_type": "code",
   "execution_count": 129,
   "id": "048cc47c-521d-41dd-abaf-eaaf6a8914e9",
   "metadata": {},
   "outputs": [],
   "source": [
    "p95wnm = oDir + 'LOCA_CESM1.P95T.1981-2099.DJF.nc'\n",
    "n95wnm = oDir + 'LOCA_CESM1.N95.1981-2099.DJF.nc'\n",
    "p95gnm = oDir + 'LOCA_CESM1.P95T.1981-2099.MAM.nc'\n",
    "n95gnm = oDir + 'LOCA_CESM1.N95.1981-2099.MAM.nc'\n",
    "p95snm = oDir + 'LOCA_CESM1.P95T.1981-2099.JJA.nc'\n",
    "n95snm = oDir + 'LOCA_CESM1.N95.1981-2099.JJA.nc'\n",
    "p95anm = oDir + 'LOCA_CESM1.P95T.1981-2099.SON.nc'\n",
    "n95anm = oDir + 'LOCA_CESM1.N95.1981-2099.SON.nc'\n",
    "  \n",
    "        # and write out to netcdf\n",
    "P95TW.to_netcdf(p95wnm)\n",
    "N95W.to_netcdf(n95wnm)\n",
    "P95TG.to_netcdf(p95gnm)\n",
    "N95G.to_netcdf(n95gnm)\n",
    "P95TS.to_netcdf(p95snm)\n",
    "N95S.to_netcdf(n95snm)\n",
    "P95TA.to_netcdf(p95anm)\n",
    "N95A.to_netcdf(n95anm)\n"
   ]
  },
  {
   "cell_type": "code",
   "execution_count": null,
   "id": "6b3d50cf-b68e-43e7-b625-eb1edcde1622",
   "metadata": {},
   "outputs": [],
   "source": []
  }
 ],
 "metadata": {
  "kernelspec": {
   "display_name": "NPL (conda)",
   "language": "python",
   "name": "npl-conda"
  },
  "language_info": {
   "codemirror_mode": {
    "name": "ipython",
    "version": 3
   },
   "file_extension": ".py",
   "mimetype": "text/x-python",
   "name": "python",
   "nbconvert_exporter": "python",
   "pygments_lexer": "ipython3",
   "version": "3.8.13"
  }
 },
 "nbformat": 4,
 "nbformat_minor": 5
}
