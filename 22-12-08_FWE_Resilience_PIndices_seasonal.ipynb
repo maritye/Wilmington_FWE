{
 "cells": [
  {
   "cell_type": "markdown",
   "id": "5a2402ff-183f-40fc-b5b5-6f04af94b00d",
   "metadata": {},
   "source": [
    "Recalculate the precipitation indices for seasonal effects just to see what difference that makes.\n",
    "\n",
    "Also calculate annual indices for summer maxima - TX90, SU, TXX"
   ]
  },
  {
   "cell_type": "code",
   "execution_count": 2,
   "id": "68a25b71-3e3b-4cb7-b890-9d4be0133cb8",
   "metadata": {},
   "outputs": [],
   "source": [
    "# Import packages\n",
    "import numpy as np\n",
    "import pandas as pd\n",
    "import xarray as xr\n",
    "import datetime\n",
    "import os\n",
    "import glob\n",
    "import matplotlib.pyplot as plt\n",
    "import matplotlib.ticker as mticker\n",
    "import matplotlib.colors as mcolors\n",
    "from geocat.viz import util as gvutil \n",
    "\n"
   ]
  },
  {
   "cell_type": "code",
   "execution_count": 3,
   "id": "2ca8170b-8956-496a-b37e-858e81af71ec",
   "metadata": {},
   "outputs": [],
   "source": [
    "import climdex.precipitation as pdex\n",
    "indices = pdex.indices(time_dim='time')\n",
    "\n",
    "iDir = \"~/PROGS/Belmont FWE/LOCA-data/loca5/\"\n",
    "oDir = \"~/PROGS/Belmont FWE/Indices/\""
   ]
  },
  {
   "cell_type": "markdown",
   "id": "9de67a20-b09f-4b0a-9200-f6a6bb809aac",
   "metadata": {},
   "source": [
    "Define the precipitation functions"
   ]
  },
  {
   "cell_type": "code",
   "execution_count": 3,
   "id": "619037fa-616b-4c5f-91be-b2ebfb44ede1",
   "metadata": {
    "tags": []
   },
   "outputs": [],
   "source": [
    "def yearly_rx1day(ds, varname = 'PRECT'):\n",
    "    \"\"\"\n",
    "    Compute the annual maximum 24h precipitation total\n",
    "    Args:\n",
    "        ds: Dataset\n",
    "        varname: assumes 'PRECT' \n",
    "    \"\"\"\n",
    "    ds = xr.DataArray(ds[varname].groupby('time.year').max('time'), name='RX1D')\n",
    "\n",
    "    return ds\n",
    "    \n",
    "def yearly_rx5day(ds, varname = 'PRECT'):\n",
    "    \"\"\"\n",
    "    Compute the annual maximum 5 day precipitation total\n",
    "    Args:\n",
    "        ds: Dataset\n",
    "        varname: assumes 'PRECT'\n",
    "    \"\"\"\n",
    "    ds = xr.DataArray(ds[varname].rolling(time=5).sum().groupby('time.year').max('time'), name='RX5D')\n",
    "\n",
    "    return ds\n",
    "\n"
   ]
  },
  {
   "cell_type": "code",
   "execution_count": 98,
   "id": "0711021e-8e19-4116-9793-fee8fc9ed2b0",
   "metadata": {},
   "outputs": [],
   "source": [
    "def warmest_day(ds):\n",
    "    \"\"\"\n",
    "    Compute maximum value of daily maximum temperature.\n",
    "    Args:\n",
    "        ds: Dataset.\n",
    "    \"\"\"\n",
    "    ds = ds.groupby(\"time.year\").max(\"time\").to_array().squeeze().drop('variable')\n",
    "    ds.name = 'TXX'\n",
    "    ds.attrs[\"unit\"], ds.attrs[\"longname\"] = \"deg C\", \"Maximum Annual Daily Maximum Temperature\"  \n",
    "    return ds\n",
    "\n",
    "\n",
    "def summer_days(ds):\n",
    "    \"\"\"\n",
    "    Compute days when Tx >25C\n",
    "    Args:\n",
    "        ds: Dataset.\n",
    "     \"\"\"\n",
    "    ds = xr.where(ds['tasmax']>25,1,0).groupby('time.year').sum('time')\n",
    "    ds.name = 'SU'\n",
    "    ds.attrs[\"unit\"], ds.attrs[\"longname\"] = \"days\", \"Summer Days; Tx greater than 25C\"\n",
    "    return ds\n",
    "\n",
    "\n"
   ]
  },
  {
   "cell_type": "code",
   "execution_count": 99,
   "id": "2d55ff50-2a45-47b9-ba05-d21771c08796",
   "metadata": {},
   "outputs": [],
   "source": [
    "def t_quant(ds, threshold=0.9, time0='1981-01-01', time1='2010-12-31', varname='tasmax'):\n",
    "    \"\"\"\n",
    "    Compute quantiles in temperature data. \n",
    "    Args:\n",
    "        ds: Dataset.\n",
    "        varname: TREFHTMX (assumes CESM output)\n",
    "        threshold (float): Lower quantile percent (as decimal). Defaults to 0.9\n",
    "        time0 (str): First time for slice. Defaults to 2015-01-01.\n",
    "        time1 (str): Second time for slice. Defaults to 2034-12-31.\n",
    "    \"\"\"\n",
    "    dp = ds.sel(time=slice(time0,time1)).quantile(q=[threshold],dim=['time']).squeeze().drop('quantile')\n",
    "    dp = dp.to_array(name=(f\"Q{str(int(float(threshold)*100))}\"))\n",
    "    return dp\n",
    "\n",
    "\n",
    "def annualnum_above_q(ds, thresh_data, threshold=0.9, varname='tasmax'):\n",
    "    \"\"\"\n",
    "    Compute number of days exceeding threshold per year\n",
    "    Args:\n",
    "        ds: Dataset\n",
    "        thresh_data: Threshold dataset (computed using t_quant over all ensemble members)\n",
    "        threshold: upper quantile percent as decimal, defaults to 0.9\n",
    "        varname: TREFHTMX assumes CESM output\n",
    "    \"\"\"\n",
    "    vee = 'TX'\n",
    "    ds = xr.where(ds[varname] > thresh_data,1,0).groupby('time.year').sum('time')\n",
    "    ds = ds.to_array(name = (f\"{vee}{str(int(float(threshold)*100))}\")).squeeze().drop('variable')\n",
    "    return ds"
   ]
  },
  {
   "cell_type": "code",
   "execution_count": 4,
   "id": "38b0847a-49db-4141-ad31-d07112691c48",
   "metadata": {
    "tags": []
   },
   "outputs": [],
   "source": [
    "### Create some standard information to include in each of the datasets for ease of writing\n",
    "years = np.arange(1980,2100)\n",
    "winyears = np.arange(1981,2099)\n",
    "seasons = ('DJF', 'MAM', 'JJA', 'SON')\n",
    "proj= ['cesm1-cam5.1.rcp45', 'cesm1-cam5.1.rcp85']\n",
    "lat = np.linspace(39.53125,42.34375,num=46)\n",
    "#lon = np.linspace(-76.21875,-74.40625, num=30)\n",
    "lon = np.linspace(283.78125,285.59375, num=30) # calculate with original longs and then convert later\n",
    "dims = (\"proj\", 'year', 'lat', 'lon')\n",
    "attribs = dict(description='Seasonal Precipitation Indices based on ETCCDI definitions for LOCA data over Delaware River Basin. Using CESM1/RCP4.5 and RCP8.5.', \n",
    "                history='Created by Mari Tye December 2022.' )"
   ]
  },
  {
   "cell_type": "code",
   "execution_count": 5,
   "id": "cb3237ce-b178-4f52-b244-e9cfd133b7e5",
   "metadata": {
    "tags": []
   },
   "outputs": [],
   "source": [
    "# OPen precipitation data\n",
    "with xr.open_dataset(iDir + 'Extraction_pr.nc') as dp:\n",
    "    dp\n",
    "\n",
    "# extra step to reassign december to next year\n",
    "\n",
    "dp_win = dp.isel(time=(dp.time.dt.season=='DJF'))\n",
    "dp_win['win_year'] = (dp_win.time.dt.month >= 12) + dp_win.time.dt.year\n",
    "dp_win.coords['win_year'] = dp_win['win_year']\n",
    "dp_spr = dp.isel(time=(dp.time.dt.season=='MAM'))\n",
    "dp_sum = dp.isel(time=(dp.time.dt.season=='JJA'))\n",
    "dp_aut = dp.isel(time=(dp.time.dt.season=='SON'))"
   ]
  },
  {
   "cell_type": "code",
   "execution_count": 209,
   "id": "1c42b1fd-06e3-4637-9b0e-bcf97080abed",
   "metadata": {},
   "outputs": [],
   "source": [
    "# OPen temperature data\n",
    "with xr.open_dataset(iDir + 'Extraction_tasmax.nc') as dtx:\n",
    "    dtx\n",
    "\n",
    "# extra step to reassign december to next year\n",
    "\n",
    "dtx_win = dtx.isel(time=(dtx.time.dt.season=='DJF'))\n",
    "dtx_win['win_year'] = (dtx_win.time.dt.month >= 12) + dtx_win.time.dt.year\n",
    "dtx_win.coords['win_year'] = dtx_win['win_year']\n",
    "dtx_spr = dtx.isel(time=(dtx.time.dt.season=='MAM'))\n",
    "dtx_sum = dtx.isel(time=(dtx.time.dt.season=='JJA'))\n",
    "dtx_aut = dtx.isel(time=(dtx.time.dt.season=='SON'))"
   ]
  },
  {
   "cell_type": "markdown",
   "id": "0696a204-a1b9-4965-82e0-d69bb74bb78b",
   "metadata": {},
   "source": [
    "Seasonal values of precipitation"
   ]
  },
  {
   "cell_type": "code",
   "execution_count": 252,
   "id": "f93dc5d3-cb0f-44f2-b655-dd539fd3b33e",
   "metadata": {
    "tags": []
   },
   "outputs": [
    {
     "name": "stdout",
     "output_type": "stream",
     "text": [
      "cesm1-cam5.1.rcp45\n",
      "rx1d\n",
      "rx5d\n",
      "ptot\n",
      "sdii\n",
      "r10\n",
      "r20\n",
      "cwd\n",
      "cdd\n",
      "cesm1-cam5.1.rcp85\n",
      "rx1d\n",
      "rx5d\n",
      "ptot\n",
      "sdii\n",
      "r10\n",
      "r20\n",
      "cwd\n",
      "cdd\n"
     ]
    }
   ],
   "source": [
    "# Create some blank arrays to fill with each index for each projection. Write these out at the end of the loop\n",
    "Rx1d = xr.DataArray(None, coords=dict(proj=proj, year=years, lat = lat, lon = lon), dims=dims, attrs=attribs, name='RX1D')\n",
    "Rx5d = xr.DataArray(None, coords=dict(proj=proj, year=years, lat = lat, lon = lon), dims=dims, attrs=attribs, name='RX5D')\n",
    "PTOT = xr.DataArray(None, coords=dict(proj=proj, year=years, lat = lat, lon = lon), dims=dims, attrs=attribs, name='PRCPTOT')\n",
    "sdii = xr.DataArray(None, coords=dict(proj=proj,  year=years, lat = lat, lon = lon), dims=dims, attrs=attribs, name='SDII')\n",
    "r10 = xr.DataArray(None, coords=dict(proj=proj, year=years, lat = lat, lon = lon), dims=dims, attrs=attribs, name='R10mm')\n",
    "r20 = xr.DataArray(None, coords=dict(proj=proj, year=years, lat = lat, lon = lon), dims=dims, attrs=attribs, name='R20mm')\n",
    "CWD = xr.DataArray(None, coords=dict(proj=proj, year=years, lat = lat, lon = lon), dims=dims, attrs=attribs, name='CWD')\n",
    "CDD = xr.DataArray(None, coords=dict(proj=proj, year=years, lat = lat, lon = lon), dims=dims, attrs=attribs, name='CDD')\n",
    "\n",
    "for r in range(2):\n",
    "    print(proj[r])\n",
    "    \n",
    "    ds = dp_win.sel(projection=r)\n",
    "    #### Calculate indices\n",
    "    Rx1d[r,:,:,:] = xr.DataArray(ds['pr'].groupby('win_year').max(), name='RX1D')[:120,:,:]\n",
    "    print('rx1d')\n",
    "    Rx5d[r,:,:,:] = xr.DataArray(ds['pr'].rolling(time=5).sum().groupby('win_year').max(), name='RX5D')[:120,:,:]\n",
    "    print('rx5d')\n",
    "    PTOT[r,:,:,:] = xr.DataArray(ds['pr'].groupby('win_year').sum(), name='PRCPTOT')[:120,:,:]\n",
    "    print('ptot')\n",
    "    sdii[r,:,:,:] = xr.DataArray(indices.sdii(ds, period='1M', varname='pr').rolling(time=3).mean().groupby('time.year').mean(), name='SDII')\n",
    "    print('sdii')\n",
    "\n",
    "    ## Fixed threshold count of days\n",
    "    r10[r,:,:,:] = xr.DataArray(indices.annual_r10mm(ds, varname='pr'), name='R10mm')\n",
    "    print('r10')\n",
    "    r20[r,:,:,:] = xr.DataArray(indices.annual_r20mm(ds, varname='pr'), name='R20mm')\n",
    "    print('r20')\n",
    "\n",
    "    ## Spells\n",
    "    CWD[r,:,:,:] = xr.DataArray(indices.cwd(ds, period='1M', varname='pr').rolling(time=3).mean().groupby('time.year').mean(), name='CWD')\n",
    "    print('cwd')\n",
    "    CDD[r,:,:,:] = xr.DataArray(indices.cdd(ds, period='1M', varname='pr').rolling(time=3).mean().groupby('time.year').mean(),  name='CDD')\n",
    "    print('cdd')\n",
    "\n",
    " #####\n",
    "    rx1nm = 'LOCA_CESM1.RX1D.1981-2099.DJF.nc'\n",
    "    rx5nm = 'LOCA_CESM1.RX5D.1981-2099.DJF.nc'\n",
    "    ptotnm = 'LOCA_CESM1.PRCPTOT.1981-2099.DJF.nc'\n",
    "    sdnm = 'LOCA_CESM1.SDII.1981-2099.DJF.nc'\n",
    "    r10nm = 'LOCA_CESM1.R10mm.1981-2099.DJF.nc'\n",
    "    r20nm = 'LOCA_CESM1.R20mm.1981-2099.DJF.nc'\n",
    "    cddnm = 'LOCA_CESM1.CDD.1981-2099.DJF.nc'\n",
    "    cwdnm = 'LOCA_CESM1.CWD.1981-2099.DJF.nc'\n",
    "   \n",
    "        # and write out to netcdf\n",
    "    Rx1d.to_netcdf(rx1nm)\n",
    "    Rx5d.to_netcdf(rx5nm)\n",
    "    PTOT.to_netcdf(ptotnm)\n",
    "    sdii.to_netcdf(sdnm)\n",
    "    r10.to_netcdf(r10nm)\n",
    "    r20.to_netcdf(r20nm)\n",
    "    CWD.to_netcdf(cwdnm)\n",
    "    CDD.to_netcdf(cddnm)\n",
    "\n"
   ]
  },
  {
   "cell_type": "code",
   "execution_count": 270,
   "id": "2acba82c-3a72-4dec-bdd1-7a1b3b6b607a",
   "metadata": {
    "tags": []
   },
   "outputs": [
    {
     "name": "stdout",
     "output_type": "stream",
     "text": [
      "cesm1-cam5.1.rcp45\n",
      "rx1d\n",
      "rx5d\n",
      "ptot\n",
      "sdii\n",
      "r10\n",
      "r20\n",
      "cwd\n",
      "cdd\n",
      "cesm1-cam5.1.rcp85\n",
      "rx1d\n",
      "rx5d\n",
      "ptot\n",
      "sdii\n",
      "r10\n",
      "r20\n",
      "cwd\n",
      "cdd\n"
     ]
    }
   ],
   "source": [
    "# Create some blank arrays to fill with each index for each projection. Write these out at the end of the loop\n",
    "Rx1d = xr.DataArray(None, coords=dict(proj=proj, year=years, lat = lat, lon = lon), dims=dims, attrs=attribs, name='RX1D')\n",
    "Rx5d = xr.DataArray(None, coords=dict(proj=proj, year=years, lat = lat, lon = lon), dims=dims, attrs=attribs, name='RX5D')\n",
    "PTOT = xr.DataArray(None, coords=dict(proj=proj, year=years, lat = lat, lon = lon), dims=dims, attrs=attribs, name='PRCPTOT')\n",
    "sdii = xr.DataArray(None, coords=dict(proj=proj,  year=years, lat = lat, lon = lon), dims=dims, attrs=attribs, name='SDII')\n",
    "r10 = xr.DataArray(None, coords=dict(proj=proj, year=years, lat = lat, lon = lon), dims=dims, attrs=attribs, name='R10mm')\n",
    "r20 = xr.DataArray(None, coords=dict(proj=proj, year=years, lat = lat, lon = lon), dims=dims, attrs=attribs, name='R20mm')\n",
    "CWD = xr.DataArray(None, coords=dict(proj=proj, year=years, lat = lat, lon = lon), dims=dims, attrs=attribs, name='CWD')\n",
    "CDD = xr.DataArray(None, coords=dict(proj=proj, year=years, lat = lat, lon = lon), dims=dims, attrs=attribs, name='CDD')\n",
    "\n",
    "for r in range(2):\n",
    "    print(proj[r])\n",
    "    \n",
    "    ds = dp_spr.sel(projection=r)\n",
    "    #### Calculate indices\n",
    "    Rx1d[r,:,:,:] = yearly_rx1day(ds, varname='pr')\n",
    "    print('rx1d')\n",
    "    Rx5d[r,:,:,:] = yearly_rx5day(ds, varname = 'pr')\n",
    "    print('rx5d')\n",
    "    PTOT[r,:,:,:] = xr.DataArray(indices.prcptot(ds, period='1Y', varname='pr').groupby('time.year').mean(), name='PRCPTOT') # annual total\n",
    "    print('ptot')\n",
    "    sdii[r,:,:,:] = xr.DataArray(indices.sdii(ds, period='1Y', varname='pr').groupby('time.year').mean(), name='SDII')\n",
    "    print('sdii')\n",
    "\n",
    "    ## Fixed threshold count of days\n",
    "    r10[r,:,:,:] = xr.DataArray(indices.annual_r10mm(ds, varname='pr'), name='R10mm')\n",
    "    print('r10')\n",
    "    r20[r,:,:,:] = xr.DataArray(indices.annual_r20mm(ds, varname='pr'), name='R20mm')\n",
    "    print('r20')\n",
    "\n",
    "    ## Spells\n",
    "    CWD[r,:,:,:] = xr.DataArray(indices.cwd(ds, period='1Y', varname='pr').groupby('time.year').mean(), name='CWD')\n",
    "    print('cwd')\n",
    "    CDD[r,:,:,:] = xr.DataArray(indices.cdd(ds, period='1Y', varname='pr').groupby('time.year').mean(), name='CDD')\n",
    "    print('cdd')\n",
    "\n",
    " #####\n",
    "rx1nm = 'LOCA_CESM1.RX1D.1981-2099.MAM.nc'\n",
    "rx5nm = 'LOCA_CESM1.RX5D.1981-2099.MAM.nc'\n",
    "ptotnm = 'LOCA_CESM1.PRCPTOT.1981-2099.MAM.nc'\n",
    "sdnm = 'LOCA_CESM1.SDII.1981-2099.MAM.nc'\n",
    "r10nm = 'LOCA_CESM1.R10mm.1981-2099.MAM.nc'\n",
    "r20nm = 'LOCA_CESM1.R20mm.1981-2099.MAM.nc'\n",
    "cddnm = 'LOCA_CESM1.CDD.1981-2099.MAM.nc'\n",
    "cwdnm = 'LOCA_CESM1.CWD.1981-2099.MAM.nc'\n",
    "   \n",
    "        # and write out to netcdf\n",
    "Rx1d.to_netcdf(rx1nm)\n",
    "Rx5d.to_netcdf(rx5nm)\n",
    "PTOT.to_netcdf(ptotnm)\n",
    "sdii.to_netcdf(sdnm)\n",
    "r10.to_netcdf(r10nm)\n",
    "r20.to_netcdf(r20nm)\n",
    "CWD.to_netcdf(cwdnm)\n",
    "CDD.to_netcdf(cddnm)\n",
    "\n"
   ]
  },
  {
   "cell_type": "code",
   "execution_count": 271,
   "id": "f28dc1d3-8308-496f-82c9-ade2ca0b4fa7",
   "metadata": {
    "tags": []
   },
   "outputs": [
    {
     "name": "stdout",
     "output_type": "stream",
     "text": [
      "cesm1-cam5.1.rcp45\n",
      "rx1d\n",
      "rx5d\n",
      "ptot\n",
      "sdii\n",
      "r10\n",
      "r20\n",
      "cwd\n",
      "cdd\n",
      "cesm1-cam5.1.rcp85\n",
      "rx1d\n",
      "rx5d\n",
      "ptot\n",
      "sdii\n",
      "r10\n",
      "r20\n",
      "cwd\n",
      "cdd\n"
     ]
    }
   ],
   "source": [
    "# Create some blank arrays to fill with each index for each projection. Write these out at the end of the loop\n",
    "Rx1d = xr.DataArray(None, coords=dict(proj=proj, year=years, lat = lat, lon = lon), dims=dims, attrs=attribs, name='RX1D')\n",
    "Rx5d = xr.DataArray(None, coords=dict(proj=proj, year=years, lat = lat, lon = lon), dims=dims, attrs=attribs, name='RX5D')\n",
    "PTOT = xr.DataArray(None, coords=dict(proj=proj, year=years, lat = lat, lon = lon), dims=dims, attrs=attribs, name='PRCPTOT')\n",
    "sdii = xr.DataArray(None, coords=dict(proj=proj,  year=years, lat = lat, lon = lon), dims=dims, attrs=attribs, name='SDII')\n",
    "r10 = xr.DataArray(None, coords=dict(proj=proj, year=years, lat = lat, lon = lon), dims=dims, attrs=attribs, name='R10mm')\n",
    "r20 = xr.DataArray(None, coords=dict(proj=proj, year=years, lat = lat, lon = lon), dims=dims, attrs=attribs, name='R20mm')\n",
    "CWD = xr.DataArray(None, coords=dict(proj=proj, year=years, lat = lat, lon = lon), dims=dims, attrs=attribs, name='CWD')\n",
    "CDD = xr.DataArray(None, coords=dict(proj=proj, year=years, lat = lat, lon = lon), dims=dims, attrs=attribs, name='CDD')\n",
    "\n",
    "for r in range(2):\n",
    "    print(proj[r])\n",
    "    \n",
    "    ds = dp_sum.sel(projection=r)\n",
    "    #### Calculate indices\n",
    "    Rx1d[r,:,:,:] = yearly_rx1day(ds, varname='pr')\n",
    "    print('rx1d')\n",
    "    Rx5d[r,:,:,:] = yearly_rx5day(ds, varname = 'pr')\n",
    "    print('rx5d')\n",
    "    PTOT[r,:,:,:] = xr.DataArray(indices.prcptot(ds, period='1Y', varname='pr').groupby('time.year').mean(), name='PRCPTOT') # annual total\n",
    "    print('ptot')\n",
    "    sdii[r,:,:,:] = xr.DataArray(indices.sdii(ds, period='1Y', varname='pr').groupby('time.year').mean(), name='SDII')\n",
    "    print('sdii')\n",
    "\n",
    "    ## Fixed threshold count of days\n",
    "    r10[r,:,:,:] = xr.DataArray(indices.annual_r10mm(ds, varname='pr'), name='R10mm')\n",
    "    print('r10')\n",
    "    r20[r,:,:,:] = xr.DataArray(indices.annual_r20mm(ds, varname='pr'), name='R20mm')\n",
    "    print('r20')\n",
    "\n",
    "    ## Spells\n",
    "    CWD[r,:,:,:] = xr.DataArray(indices.cwd(ds, period='1Y', varname='pr').groupby('time.year').mean(), name='CWD')\n",
    "    print('cwd')\n",
    "    CDD[r,:,:,:] = xr.DataArray(indices.cdd(ds, period='1Y', varname='pr').groupby('time.year').mean(), name='CDD')\n",
    "    print('cdd')\n",
    "\n",
    " #####\n",
    "rx1nm = oDir + 'LOCA_CESM1.RX1D.1981-2099.JJA.nc'\n",
    "rx5nm = oDir + 'LOCA_CESM1.RX5D.1981-2099.JJA.nc'\n",
    "ptotnm = oDir + 'LOCA_CESM1.PRCPTOT.1981-2099.JJA.nc'\n",
    "sdnm = oDir + 'LOCA_CESM1.SDII.1981-2099.JJA.nc'\n",
    "r10nm = oDir + 'LOCA_CESM1.R10mm.1981-2099.JJA.nc'\n",
    "r20nm = oDir + 'LOCA_CESM1.R20mm.1981-2099.JJA.nc'\n",
    "cddnm = oDir + 'LOCA_CESM1.CDD.1981-2099.JJA.nc'\n",
    "cwdnm = oDir + 'LOCA_CESM1.CWD.1981-2099.JJA.nc'\n",
    "   \n",
    "        # and write out to netcdf\n",
    "Rx1d.to_netcdf(rx1nm)\n",
    "Rx5d.to_netcdf(rx5nm)\n",
    "PTOT.to_netcdf(ptotnm)\n",
    "sdii.to_netcdf(sdnm)\n",
    "r10.to_netcdf(r10nm)\n",
    "r20.to_netcdf(r20nm)\n",
    "CWD.to_netcdf(cwdnm)\n",
    "CDD.to_netcdf(cddnm)\n",
    "\n"
   ]
  },
  {
   "cell_type": "code",
   "execution_count": 7,
   "id": "a58ed515-ada7-4c84-8f41-81ff3398f6ba",
   "metadata": {
    "tags": []
   },
   "outputs": [
    {
     "name": "stdout",
     "output_type": "stream",
     "text": [
      "cesm1-cam5.1.rcp45\n",
      "r1\n",
      "cesm1-cam5.1.rcp85\n",
      "r1\n"
     ]
    }
   ],
   "source": [
    "# Just check the number of wet days\n",
    "r1 = xr.DataArray(None, coords=dict(proj=proj, year=years, lat = lat, lon = lon), dims=dims, attrs=attribs, name='R1mm')\n",
    "\n",
    "for r in range(2):\n",
    "    print(proj[r])\n",
    "    \n",
    "    ds = dp_win.sel(projection=r)\n",
    "    r1[r,:,:,:] = xr.DataArray(xr.where(ds['pr']>=1,1,0).groupby('win_year').sum(), name='R1mm')[:120,:,:]\n",
    "    print('r1')\n",
    "\n",
    " #####\n",
    "r1nm = oDir + 'LOCA_CESM1.R1mm.1981-2099.DJF.nc'\n",
    "        # and write out to netcdf\n",
    "r1.to_netcdf(r1nm)"
   ]
  },
  {
   "cell_type": "code",
   "execution_count": 272,
   "id": "144d96db-f9a1-4e9a-b2c9-21eb5f2f404c",
   "metadata": {
    "tags": []
   },
   "outputs": [
    {
     "name": "stdout",
     "output_type": "stream",
     "text": [
      "cesm1-cam5.1.rcp45\n",
      "rx1d\n",
      "rx5d\n",
      "ptot\n",
      "sdii\n",
      "r10\n",
      "r20\n",
      "cwd\n",
      "cdd\n",
      "cesm1-cam5.1.rcp85\n",
      "rx1d\n",
      "rx5d\n",
      "ptot\n",
      "sdii\n",
      "r10\n",
      "r20\n",
      "cwd\n",
      "cdd\n"
     ]
    }
   ],
   "source": [
    "# Create some blank arrays to fill with each index for each projection. Write these out at the end of the loop\n",
    "Rx1d = xr.DataArray(None, coords=dict(proj=proj, year=years, lat = lat, lon = lon), dims=dims, attrs=attribs, name='RX1D')\n",
    "Rx5d = xr.DataArray(None, coords=dict(proj=proj, year=years, lat = lat, lon = lon), dims=dims, attrs=attribs, name='RX5D')\n",
    "PTOT = xr.DataArray(None, coords=dict(proj=proj, year=years, lat = lat, lon = lon), dims=dims, attrs=attribs, name='PRCPTOT')\n",
    "sdii = xr.DataArray(None, coords=dict(proj=proj,  year=years, lat = lat, lon = lon), dims=dims, attrs=attribs, name='SDII')\n",
    "r10 = xr.DataArray(None, coords=dict(proj=proj, year=years, lat = lat, lon = lon), dims=dims, attrs=attribs, name='R10mm')\n",
    "r20 = xr.DataArray(None, coords=dict(proj=proj, year=years, lat = lat, lon = lon), dims=dims, attrs=attribs, name='R20mm')\n",
    "CWD = xr.DataArray(None, coords=dict(proj=proj, year=years, lat = lat, lon = lon), dims=dims, attrs=attribs, name='CWD')\n",
    "CDD = xr.DataArray(None, coords=dict(proj=proj, year=years, lat = lat, lon = lon), dims=dims, attrs=attribs, name='CDD')\n",
    "\n",
    "for r in range(2):\n",
    "    print(proj[r])\n",
    "    \n",
    "    ds = dp_aut.sel(projection=r)\n",
    "    #### Calculate indices\n",
    "    Rx1d[r,:,:,:] = yearly_rx1day(ds, varname='pr')\n",
    "    print('rx1d')\n",
    "    Rx5d[r,:,:,:] = yearly_rx5day(ds, varname = 'pr')\n",
    "    print('rx5d')\n",
    "    PTOT[r,:,:,:] = xr.DataArray(indices.prcptot(ds, period='1Y', varname='pr').groupby('time.year').mean(), name='PRCPTOT') # annual total\n",
    "    print('ptot')\n",
    "    sdii[r,:,:,:] = xr.DataArray(indices.sdii(ds, period='1Y', varname='pr').groupby('time.year').mean(), name='SDII')\n",
    "    print('sdii')\n",
    "\n",
    "    ## Fixed threshold count of days\n",
    "    r10[r,:,:,:] = xr.DataArray(indices.annual_r10mm(ds, varname='pr'), name='R10mm')\n",
    "    print('r10')\n",
    "    r20[r,:,:,:] = xr.DataArray(indices.annual_r20mm(ds, varname='pr'), name='R20mm')\n",
    "    print('r20')\n",
    "\n",
    "    ## Spells\n",
    "    CWD[r,:,:,:] = xr.DataArray(indices.cwd(ds, period='1Y', varname='pr').groupby('time.year').mean(), name='CWD')\n",
    "    print('cwd')\n",
    "    CDD[r,:,:,:] = xr.DataArray(indices.cdd(ds, period='1Y', varname='pr').groupby('time.year').mean(), name='CDD')\n",
    "    print('cdd')\n",
    "\n",
    " #####\n",
    "rx1nm = oDir + 'LOCA_CESM1.RX1D.1981-2099.SON.nc'\n",
    "rx5nm = oDir + 'LOCA_CESM1.RX5D.1981-2099.SON.nc'\n",
    "ptotnm = oDir + 'LOCA_CESM1.PRCPTOT.1981-2099.SON.nc'\n",
    "sdnm = oDir + 'LOCA_CESM1.SDII.1981-2099.SON.nc'\n",
    "r10nm = oDir + 'LOCA_CESM1.R10mm.1981-2099.SON.nc'\n",
    "r20nm = oDir + 'LOCA_CESM1.R20mm.1981-2099.SON.nc'\n",
    "cddnm = oDir + 'LOCA_CESM1.CDD.1981-2099.SON.nc'\n",
    "cwdnm = oDir + 'LOCA_CESM1.CWD.1981-2099.SON.nc'\n",
    "   \n",
    "        # and write out to netcdf\n",
    "Rx1d.to_netcdf(rx1nm)\n",
    "Rx5d.to_netcdf(rx5nm)\n",
    "PTOT.to_netcdf(ptotnm)\n",
    "sdii.to_netcdf(sdnm)\n",
    "r10.to_netcdf(r10nm)\n",
    "r20.to_netcdf(r20nm)\n",
    "CWD.to_netcdf(cwdnm)\n",
    "CDD.to_netcdf(cddnm)\n",
    "\n"
   ]
  },
  {
   "cell_type": "markdown",
   "id": "d792a137-63b3-44aa-9615-f7f5ab3abe93",
   "metadata": {},
   "source": [
    "Seasonal and annual Temperature indices"
   ]
  },
  {
   "cell_type": "code",
   "execution_count": 186,
   "id": "d45eb2ee-ca24-47bf-aa17-277fbd6a6806",
   "metadata": {
    "tags": []
   },
   "outputs": [
    {
     "name": "stdout",
     "output_type": "stream",
     "text": [
      "cesm1-cam5.1.rcp45\n",
      "txx\n",
      "su\n"
     ]
    },
    {
     "name": "stderr",
     "output_type": "stream",
     "text": [
      "/glade/u/home/maritye/.local/lib/python3.7/site-packages/numpy/lib/nanfunctions.py:1390: RuntimeWarning: All-NaN slice encountered\n",
      "  overwrite_input, interpolation)\n"
     ]
    },
    {
     "name": "stdout",
     "output_type": "stream",
     "text": [
      "q90\n",
      "cesm1-cam5.1.rcp85\n",
      "txx\n",
      "su\n"
     ]
    },
    {
     "name": "stderr",
     "output_type": "stream",
     "text": [
      "/glade/u/home/maritye/.local/lib/python3.7/site-packages/numpy/lib/nanfunctions.py:1390: RuntimeWarning: All-NaN slice encountered\n",
      "  overwrite_input, interpolation)\n"
     ]
    },
    {
     "name": "stdout",
     "output_type": "stream",
     "text": [
      "q90\n"
     ]
    }
   ],
   "source": [
    "# Create some blank arrays to fill with each index for each projection. Write these out at the end of the loop\n",
    "TXX = xr.DataArray(None, coords=dict(proj=proj, year=years, lat = lat, lon = lon), dims=dims, attrs=attribs, name='TXX')\n",
    "SU = xr.DataArray(None, coords=dict(proj=proj, year=years, lat = lat, lon = lon), dims=dims, attrs=attribs, name='SU')\n",
    "Q90 = xr.DataArray(None, coords=dict(proj=proj, year=years, lat = lat, lon = lon), dims=dims, attrs=attribs, name='Q90')\n",
    "\n",
    "for r in range(2):\n",
    "    print(proj[r])\n",
    "    \n",
    "    ds = dtx.sel(projection=r)\n",
    "    #### Calculate indices\n",
    "    TXX[r,:,:,:] = warmest_day(ds)\n",
    "    print('txx')\n",
    "    SU[r,:,:,:] = summer_days(ds)\n",
    "    print('su')\n",
    "    Q90[r,:,:,:] = t_quant(ds)\n",
    "    print('q90')\n",
    "    \n",
    "\n",
    " #####\n",
    "    txxnm = oDir + 'LOCA_CESM1.TXX.1981-2099.nc'\n",
    "    sunm = oDir + 'LOCA_CESM1.SU.1981-2099.nc'\n",
    "    q90nm = oDir + 'LOCA_CESM1.Q90.1981-2099.nc'\n",
    "    \n",
    "    # and write out to netcdf\n",
    "    TXX.to_netcdf(txxnm)\n",
    "    SU.to_netcdf(sunm)\n",
    "    Q90.to_netcdf(q90nm)\n",
    "    \n"
   ]
  },
  {
   "cell_type": "markdown",
   "id": "47633c16-065e-41da-8d6c-04cda8621cc8",
   "metadata": {},
   "source": [
    "Only looking at high temps. So SU and TX90 in spring, summer and autumn."
   ]
  },
  {
   "cell_type": "code",
   "execution_count": 202,
   "id": "e82be184-db71-4aad-a2c6-6776cd7a9d8f",
   "metadata": {
    "tags": []
   },
   "outputs": [
    {
     "name": "stdout",
     "output_type": "stream",
     "text": [
      "cesm1-cam5.1.rcp45\n"
     ]
    },
    {
     "name": "stderr",
     "output_type": "stream",
     "text": [
      "/glade/u/home/maritye/.local/lib/python3.7/site-packages/xarray/core/nanops.py:133: RuntimeWarning: invalid value encountered in true_divide\n",
      "  data = data / (valid_count - ddof)\n"
     ]
    },
    {
     "name": "stdout",
     "output_type": "stream",
     "text": [
      "su\n",
      "tx90\n",
      "cesm1-cam5.1.rcp85\n"
     ]
    },
    {
     "name": "stderr",
     "output_type": "stream",
     "text": [
      "/glade/u/home/maritye/.local/lib/python3.7/site-packages/xarray/core/nanops.py:133: RuntimeWarning: invalid value encountered in true_divide\n",
      "  data = data / (valid_count - ddof)\n"
     ]
    },
    {
     "name": "stdout",
     "output_type": "stream",
     "text": [
      "su\n",
      "tx90\n"
     ]
    }
   ],
   "source": [
    "# Create some blank arrays to fill with each index for each projection. Write these out at the end of the loop\n",
    "SU = xr.DataArray(None, coords=dict(proj=proj, year=years, lat = lat, lon = lon), dims=dims, attrs=attribs, name='SU')\n",
    "TX90 = xr.DataArray(None, coords=dict(proj=proj, year=years, lat = lat, lon = lon), dims=dims, attrs=attribs, name='TX90')\n",
    "\n",
    "for r in range(2):\n",
    "    print(proj[r])\n",
    "    \n",
    "    ds = dtx_spr.sel(projection=r)\n",
    "    dq = Q90.sel(proj=proj[r]).sel(year=slice('1981-01-01', '2010-12-31')).mean('year')\n",
    "    #### Calculate indices\n",
    "    SU[r,:,:,:] = summer_days(ds)\n",
    "    print('su')\n",
    "    TX90[r,:,:,:] = xr.DataArray(xr.where(ds['tasmax'] > dq,1,0).groupby('time.year').sum('time'), name='TX90')\n",
    "    print('tx90')\n",
    "    \n",
    "\n",
    " #####\n",
    "    sunm = oDir + 'LOCA_CESM1.SU.1981-2099.MAM.nc'\n",
    "    tx90nm = oDir + 'LOCA_CESM1.TX90.1981-2099.MAM.nc'\n",
    "    \n",
    "    # and write out to netcdf\n",
    "    SU.to_netcdf(sunm)\n",
    "    TX90.to_netcdf(tx90nm)\n",
    "    \n"
   ]
  },
  {
   "cell_type": "code",
   "execution_count": 204,
   "id": "cf05c03d-a5e4-47aa-a16f-1621cfe9b806",
   "metadata": {
    "tags": []
   },
   "outputs": [
    {
     "name": "stdout",
     "output_type": "stream",
     "text": [
      "cesm1-cam5.1.rcp45\n"
     ]
    },
    {
     "name": "stderr",
     "output_type": "stream",
     "text": [
      "/glade/u/home/maritye/.local/lib/python3.7/site-packages/xarray/core/nanops.py:133: RuntimeWarning: invalid value encountered in true_divide\n",
      "  data = data / (valid_count - ddof)\n"
     ]
    },
    {
     "name": "stdout",
     "output_type": "stream",
     "text": [
      "su\n",
      "tx90\n",
      "cesm1-cam5.1.rcp85\n"
     ]
    },
    {
     "name": "stderr",
     "output_type": "stream",
     "text": [
      "/glade/u/home/maritye/.local/lib/python3.7/site-packages/xarray/core/nanops.py:133: RuntimeWarning: invalid value encountered in true_divide\n",
      "  data = data / (valid_count - ddof)\n"
     ]
    },
    {
     "name": "stdout",
     "output_type": "stream",
     "text": [
      "su\n",
      "tx90\n"
     ]
    }
   ],
   "source": [
    "# Create some blank arrays to fill with each index for each projection. Write these out at the end of the loop\n",
    "SU = xr.DataArray(None, coords=dict(proj=proj, year=years, lat = lat, lon = lon), dims=dims, attrs=attribs, name='SU')\n",
    "TX90 = xr.DataArray(None, coords=dict(proj=proj, year=years, lat = lat, lon = lon), dims=dims, attrs=attribs, name='TX90')\n",
    "\n",
    "for r in range(2):\n",
    "    print(proj[r])\n",
    "    \n",
    "    ds = dtx_sum.sel(projection=r)\n",
    "    dq = Q90.sel(proj=proj[r]).sel(year=slice('1981-01-01', '2010-12-31')).mean('year')\n",
    "    #### Calculate indices\n",
    "    SU[r,:,:,:] = summer_days(ds)\n",
    "    print('su')\n",
    "    TX90[r,:,:,:] = xr.DataArray(xr.where(ds['tasmax'] > dq,1,0).groupby('time.year').sum('time'), name='TX90')\n",
    "    print('tx90')\n",
    "    \n",
    "\n",
    " #####\n",
    "    sunm = oDir + 'LOCA_CESM1.SU.1981-2099.JJA.nc'\n",
    "    tx90nm = oDir + 'LOCA_CESM1.TX90.1981-2099.JJA.nc'\n",
    "    \n",
    "    # and write out to netcdf\n",
    "    SU.to_netcdf(sunm)\n",
    "    TX90.to_netcdf(tx90nm)\n",
    "    \n"
   ]
  },
  {
   "cell_type": "code",
   "execution_count": 203,
   "id": "31458cfb-4a9d-49b5-83ac-81fdc803d32f",
   "metadata": {
    "tags": []
   },
   "outputs": [
    {
     "name": "stdout",
     "output_type": "stream",
     "text": [
      "cesm1-cam5.1.rcp45\n"
     ]
    },
    {
     "name": "stderr",
     "output_type": "stream",
     "text": [
      "/glade/u/home/maritye/.local/lib/python3.7/site-packages/xarray/core/nanops.py:133: RuntimeWarning: invalid value encountered in true_divide\n",
      "  data = data / (valid_count - ddof)\n"
     ]
    },
    {
     "name": "stdout",
     "output_type": "stream",
     "text": [
      "su\n",
      "tx90\n",
      "cesm1-cam5.1.rcp85\n"
     ]
    },
    {
     "name": "stderr",
     "output_type": "stream",
     "text": [
      "/glade/u/home/maritye/.local/lib/python3.7/site-packages/xarray/core/nanops.py:133: RuntimeWarning: invalid value encountered in true_divide\n",
      "  data = data / (valid_count - ddof)\n"
     ]
    },
    {
     "name": "stdout",
     "output_type": "stream",
     "text": [
      "su\n",
      "tx90\n"
     ]
    }
   ],
   "source": [
    "# Create some blank arrays to fill with each index for each projection. Write these out at the end of the loop\n",
    "SU = xr.DataArray(None, coords=dict(proj=proj, year=years, lat = lat, lon = lon), dims=dims, attrs=attribs, name='SU')\n",
    "TX90 = xr.DataArray(None, coords=dict(proj=proj, year=years, lat = lat, lon = lon), dims=dims, attrs=attribs, name='TX90')\n",
    "\n",
    "for r in range(2):\n",
    "    print(proj[r])\n",
    "    \n",
    "    ds = dtx_aut.sel(projection=r)\n",
    "    dq = Q90.sel(proj=proj[r]).sel(year=slice('1981-01-01', '2010-12-31')).mean('year')\n",
    "    #### Calculate indices\n",
    "    SU[r,:,:,:] = summer_days(ds)\n",
    "    print('su')\n",
    "    TX90[r,:,:,:] = xr.DataArray(xr.where(ds['tasmax'] > dq,1,0).groupby('time.year').sum('time'), name='TX90')\n",
    "    print('tx90')\n",
    "    \n",
    "\n",
    " #####\n",
    "    sunm = oDir + 'LOCA_CESM1.SU.1981-2099.SON.nc'\n",
    "    tx90nm = oDir + 'LOCA_CESM1.TX90.1981-2099.SON.nc'\n",
    "    \n",
    "    # and write out to netcdf\n",
    "    SU.to_netcdf(sunm)\n",
    "    TX90.to_netcdf(tx90nm)\n",
    "    \n"
   ]
  },
  {
   "cell_type": "code",
   "execution_count": null,
   "id": "bb78574c-4bae-44ec-af66-397ffc130c09",
   "metadata": {},
   "outputs": [],
   "source": []
  }
 ],
 "metadata": {
  "kernelspec": {
   "display_name": "NPL (conda)",
   "language": "python",
   "name": "npl-conda"
  },
  "language_info": {
   "codemirror_mode": {
    "name": "ipython",
    "version": 3
   },
   "file_extension": ".py",
   "mimetype": "text/x-python",
   "name": "python",
   "nbconvert_exporter": "python",
   "pygments_lexer": "ipython3",
   "version": "3.7.12"
  }
 },
 "nbformat": 4,
 "nbformat_minor": 5
}
